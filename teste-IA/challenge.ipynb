{
  "nbformat": 4,
  "nbformat_minor": 0,
  "metadata": {
    "colab": {
      "provenance": []
    },
    "kernelspec": {
      "name": "python3",
      "display_name": "Python 3"
    },
    "language_info": {
      "name": "python"
    }
  },
  "cells": [
    {
      "cell_type": "code",
      "execution_count": 28,
      "metadata": {
        "colab": {
          "base_uri": "https://localhost:8080/"
        },
        "id": "-_US_dHLwiPS",
        "outputId": "dad65a62-2af5-4c26-eb3c-ee73c310ed74"
      },
      "outputs": [
        {
          "output_type": "stream",
          "name": "stdout",
          "text": [
            "Drive already mounted at /content/drive; to attempt to forcibly remount, call drive.mount(\"/content/drive\", force_remount=True).\n"
          ]
        }
      ],
      "source": [
        "from google.colab import drive\n",
        "drive.mount('/content/drive')"
      ]
    },
    {
      "cell_type": "code",
      "source": [
        "!pip install -q kaggle"
      ],
      "metadata": {
        "id": "c_v3spqdw3JZ"
      },
      "execution_count": 29,
      "outputs": []
    },
    {
      "cell_type": "code",
      "source": [
        "!mkdir ~/.kaggle\n",
        "!chmod 600 ~/.kaggle"
      ],
      "metadata": {
        "id": "6CVUIHFCw45I",
        "colab": {
          "base_uri": "https://localhost:8080/"
        },
        "outputId": "3fb5d70b-f519-4591-87f7-e50b5d352036"
      },
      "execution_count": 30,
      "outputs": [
        {
          "output_type": "stream",
          "name": "stdout",
          "text": [
            "mkdir: cannot create directory ‘/root/.kaggle’: File exists\n"
          ]
        }
      ]
    },
    {
      "cell_type": "code",
      "source": [
        "!cp \"/content/drive/MyDrive/CHALLENGE_MOTTU/kaggle (2).json\" ~/.kaggle/kaggle.json"
      ],
      "metadata": {
        "id": "SHdgHKWtxD8Q"
      },
      "execution_count": 33,
      "outputs": []
    },
    {
      "cell_type": "code",
      "source": [
        "!kaggle datasets download -d nehalbirla/motorcycle-dataset"
      ],
      "metadata": {
        "colab": {
          "base_uri": "https://localhost:8080/"
        },
        "id": "SNQLV4H4xiHR",
        "outputId": "198bfe1f-a77c-4df6-939d-372f04ea59d7"
      },
      "execution_count": 34,
      "outputs": [
        {
          "output_type": "stream",
          "name": "stdout",
          "text": [
            "Dataset URL: https://www.kaggle.com/datasets/nehalbirla/motorcycle-dataset\n",
            "License(s): DbCL-1.0\n",
            "Downloading motorcycle-dataset.zip to /content\n",
            "  0% 0.00/12.2k [00:00<?, ?B/s]\n",
            "100% 12.2k/12.2k [00:00<00:00, 20.4MB/s]\n"
          ]
        }
      ]
    },
    {
      "cell_type": "code",
      "source": [
        "!unzip /content/motorcycle-dataset.zip -d /content/motorcycle_dataset"
      ],
      "metadata": {
        "colab": {
          "base_uri": "https://localhost:8080/"
        },
        "id": "_sNvw61R7GtB",
        "outputId": "7b0adf8d-9e23-42ed-dec9-e90cf12b81ca"
      },
      "execution_count": 35,
      "outputs": [
        {
          "output_type": "stream",
          "name": "stdout",
          "text": [
            "Archive:  /content/motorcycle-dataset.zip\n",
            "  inflating: /content/motorcycle_dataset/BIKE DETAILS.csv  \n"
          ]
        }
      ]
    },
    {
      "cell_type": "code",
      "source": [
        "!ls /content/motorcycle_dataset"
      ],
      "metadata": {
        "colab": {
          "base_uri": "https://localhost:8080/"
        },
        "id": "DMzxDQ6j7MSh",
        "outputId": "a5a0649e-66ca-4cff-8f40-aeb565e4aaaf"
      },
      "execution_count": 36,
      "outputs": [
        {
          "output_type": "stream",
          "name": "stdout",
          "text": [
            "'BIKE DETAILS.csv'\n"
          ]
        }
      ]
    },
    {
      "cell_type": "code",
      "source": [
        "import pandas as pd\n",
        "import os\n",
        "\n",
        "print(os.listdir('/content/motorcycle_dataset'))\n",
        "\n",
        "csv_path = '/content/motorcycle_dataset/BIKE DETAILS.csv'\n",
        "df = pd.read_csv(csv_path)\n",
        "\n",
        "print(df.head())\n",
        "\n",
        "df.info()"
      ],
      "metadata": {
        "colab": {
          "base_uri": "https://localhost:8080/"
        },
        "id": "dXs1BOS_8gCX",
        "outputId": "cb57287a-efd6-4f94-81f8-2e2628000b9a"
      },
      "execution_count": 41,
      "outputs": [
        {
          "output_type": "stream",
          "name": "stdout",
          "text": [
            "['BIKE DETAILS.csv']\n",
            "                                  name  selling_price  year seller_type  \\\n",
            "0            Royal Enfield Classic 350         175000  2019  Individual   \n",
            "1                            Honda Dio          45000  2017  Individual   \n",
            "2  Royal Enfield Classic Gunmetal Grey         150000  2018  Individual   \n",
            "3    Yamaha Fazer FI V 2.0 [2016-2018]          65000  2015  Individual   \n",
            "4                Yamaha SZ [2013-2014]          20000  2011  Individual   \n",
            "\n",
            "       owner  km_driven  ex_showroom_price  \n",
            "0  1st owner        350                NaN  \n",
            "1  1st owner       5650                NaN  \n",
            "2  1st owner      12000           148114.0  \n",
            "3  1st owner      23000            89643.0  \n",
            "4  2nd owner      21000                NaN  \n",
            "<class 'pandas.core.frame.DataFrame'>\n",
            "RangeIndex: 1061 entries, 0 to 1060\n",
            "Data columns (total 7 columns):\n",
            " #   Column             Non-Null Count  Dtype  \n",
            "---  ------             --------------  -----  \n",
            " 0   name               1061 non-null   object \n",
            " 1   selling_price      1061 non-null   int64  \n",
            " 2   year               1061 non-null   int64  \n",
            " 3   seller_type        1061 non-null   object \n",
            " 4   owner              1061 non-null   object \n",
            " 5   km_driven          1061 non-null   int64  \n",
            " 6   ex_showroom_price  626 non-null    float64\n",
            "dtypes: float64(1), int64(3), object(3)\n",
            "memory usage: 58.2+ KB\n"
          ]
        }
      ]
    },
    {
      "cell_type": "code",
      "source": [
        "import re\n",
        "\n",
        "def preprocess_text(text):\n",
        "    text = text.lower()\n",
        "    text = re.sub(r'[^a-zA-Z0-9\\s]', '', text)  # Remove caracteres especiais e pontuação\n",
        "    return text\n",
        "\n",
        "df['processed_name'] = df['name'].apply(preprocess_text)\n",
        "print(df[['name', 'processed_name']].head())"
      ],
      "metadata": {
        "colab": {
          "base_uri": "https://localhost:8080/"
        },
        "id": "EBd_4wcb9MCX",
        "outputId": "23bda0ad-8adb-482c-db45-98ac86eb6057"
      },
      "execution_count": 42,
      "outputs": [
        {
          "output_type": "stream",
          "name": "stdout",
          "text": [
            "                                  name                       processed_name\n",
            "0            Royal Enfield Classic 350            royal enfield classic 350\n",
            "1                            Honda Dio                            honda dio\n",
            "2  Royal Enfield Classic Gunmetal Grey  royal enfield classic gunmetal grey\n",
            "3    Yamaha Fazer FI V 2.0 [2016-2018]        yamaha fazer fi v 20 20162018\n",
            "4                Yamaha SZ [2013-2014]                   yamaha sz 20132014\n"
          ]
        }
      ]
    },
    {
      "cell_type": "code",
      "source": [
        "from sklearn.feature_extraction.text import TfidfVectorizer\n",
        "\n",
        "# Inicializa o vetorizador TF-IDF\n",
        "tfidf_vectorizer = TfidfVectorizer()\n",
        "\n",
        "# Ajusta e transforma os nomes processados\n",
        "tfidf_matrix = tfidf_vectorizer.fit_transform(df['processed_name'])\n",
        "\n",
        "# A matriz TF-IDF\n",
        "print(tfidf_matrix.shape)"
      ],
      "metadata": {
        "colab": {
          "base_uri": "https://localhost:8080/"
        },
        "id": "Dz-zA1a89kuh",
        "outputId": "3fa4e747-76e9-49e8-8088-a62d2300124e"
      },
      "execution_count": 43,
      "outputs": [
        {
          "output_type": "stream",
          "name": "stdout",
          "text": [
            "(1061, 264)\n"
          ]
        }
      ]
    },
    {
      "cell_type": "code",
      "source": [
        "from sklearn.metrics.pairwise import cosine_similarity\n",
        "\n",
        "# Calcula a matriz de similaridade de cosseno\n",
        "cosine_sim = cosine_similarity(tfidf_matrix, tfidf_matrix)\n",
        "\n",
        "# A matriz de similaridade\n",
        "print(cosine_sim.shape)"
      ],
      "metadata": {
        "colab": {
          "base_uri": "https://localhost:8080/"
        },
        "id": "pTl803mt9oDp",
        "outputId": "3edeafc7-543e-4b61-ee59-7c80987df5e0"
      },
      "execution_count": 44,
      "outputs": [
        {
          "output_type": "stream",
          "name": "stdout",
          "text": [
            "(1061, 1061)\n"
          ]
        }
      ]
    },
    {
      "cell_type": "code",
      "source": [
        "def get_similar_bikes(bike_name, cosine_sim=cosine_sim, df=df):\n",
        "    # Obtém o índice da moto pelo nome original\n",
        "    indices = df[df['name'] == bike_name].index\n",
        "    if len(indices) == 0:\n",
        "        return f\"Moto '{bike_name}' não encontrada no dataset.\"\n",
        "    bike_index = indices[0]\n",
        "\n",
        "    # Obtém os scores de similaridade de todas as motos com a moto dada\n",
        "    similarity_scores = list(enumerate(cosine_sim[bike_index]))\n",
        "\n",
        "    # Ordena as motos por score de similaridade (em ordem decrescente)\n",
        "    similarity_scores = sorted(similarity_scores, key=lambda x: x[1], reverse=True)\n",
        "\n",
        "    # Obtém os scores das 10 motos mais similares (excluindo a própria moto)\n",
        "    similarity_scores = similarity_scores[1:11]\n",
        "\n",
        "    # Obtém os índices das motos similares\n",
        "    similar_bike_indices = [i[0] for i in similarity_scores]\n",
        "\n",
        "    # Retorna os nomes das motos similares\n",
        "    return df['name'].iloc[similar_bike_indices]\n",
        "\n",
        "# Exemplo: Encontrar motos similares a 'Royal Enfield Classic 350'\n",
        "similar_bikes = get_similar_bikes('Royal Enfield Classic 350')\n",
        "print(f\"Motos similares a 'Royal Enfield Classic 350':\\n{similar_bikes}\")"
      ],
      "metadata": {
        "colab": {
          "base_uri": "https://localhost:8080/"
        },
        "id": "8SLdqbQQ9u35",
        "outputId": "1fa36689-b95e-4171-965f-6dd8130aa62b"
      },
      "execution_count": 45,
      "outputs": [
        {
          "output_type": "stream",
          "name": "stdout",
          "text": [
            "Motos similares a 'Royal Enfield Classic 350':\n",
            "101    Royal Enfield Classic 350\n",
            "127    Royal Enfield Classic 350\n",
            "142    Royal Enfield Classic 350\n",
            "168    Royal Enfield Classic 350\n",
            "179    Royal Enfield Classic 350\n",
            "221    Royal Enfield Classic 350\n",
            "297    Royal Enfield Classic 350\n",
            "313    Royal Enfield Classic 350\n",
            "316    Royal Enfield Classic 350\n",
            "328    Royal Enfield Classic 350\n",
            "Name: name, dtype: object\n"
          ]
        }
      ]
    },
    {
      "cell_type": "code",
      "source": [
        "from sklearn.cluster import KMeans\n",
        "import numpy as np\n",
        "\n",
        "# Define o número de clusters (você pode ajustar este valor)\n",
        "n_clusters = 5\n",
        "\n",
        "# Aplica o K-Means aos vetores TF-IDF\n",
        "kmeans = KMeans(n_clusters=n_clusters, random_state=42, n_init=10)\n",
        "clusters = kmeans.fit_predict(tfidf_matrix)\n",
        "\n",
        "# Adiciona os clusters ao DataFrame\n",
        "df['cluster'] = clusters\n",
        "\n",
        "# Exibe alguns exemplos de motos em cada cluster\n",
        "for i in range(n_clusters):\n",
        "    print(f\"\\nCluster {i}:\")\n",
        "    print(df[df['cluster'] == i]['name'].head())"
      ],
      "metadata": {
        "colab": {
          "base_uri": "https://localhost:8080/"
        },
        "id": "jdOgM7Lf97ep",
        "outputId": "f6731799-c947-452f-eac9-ebded57325ca"
      },
      "execution_count": 46,
      "outputs": [
        {
          "output_type": "stream",
          "name": "stdout",
          "text": [
            "\n",
            "Cluster 0:\n",
            "14                          Jawa 42\n",
            "15    Suzuki Access 125 [2007-2016]\n",
            "20             Hero Passion Pro 110\n",
            "23                    Jawa Standard\n",
            "26            TVS Apache RTR 160 4V\n",
            "Name: name, dtype: object\n",
            "\n",
            "Cluster 1:\n",
            "0                Royal Enfield Classic 350\n",
            "2      Royal Enfield Classic Gunmetal Grey\n",
            "7     Royal Enfield Bullet 350 [2007-2011]\n",
            "18     Royal Enfield Classic Gunmetal Grey\n",
            "24           Royal Enfield Thunderbird 350\n",
            "Name: name, dtype: object\n",
            "\n",
            "Cluster 2:\n",
            "9           Bajaj Discover 125\n",
            "12    Bajaj Avenger Street 220\n",
            "40           Bajaj Dominar 400\n",
            "46          Bajaj Discover 125\n",
            "50          Bajaj Discover 100\n",
            "Name: name, dtype: object\n",
            "\n",
            "Cluster 3:\n",
            "3     Yamaha Fazer FI V 2.0 [2016-2018]\n",
            "4                 Yamaha SZ [2013-2014]\n",
            "10                          Yamaha FZ16\n",
            "13                        Yamaha YZF R3\n",
            "17                     Yamaha YZF R15 S\n",
            "Name: name, dtype: object\n",
            "\n",
            "Cluster 4:\n",
            "1                  Honda Dio\n",
            "5           Honda CB Twister\n",
            "6       Honda CB Hornet 160R\n",
            "8     Hero Honda CBZ extreme\n",
            "11                Honda Navi\n",
            "Name: name, dtype: object\n"
          ]
        }
      ]
    },
    {
      "cell_type": "code",
      "source": [
        "import pandas as pd\n",
        "from sklearn.feature_extraction.text import TfidfVectorizer\n",
        "import joblib\n",
        "import re\n",
        "\n",
        "# Carregar o DataFrame\n",
        "df = pd.read_csv('/content/motorcycle_dataset/BIKE DETAILS.csv')\n",
        "\n",
        "# Função de pré-processamento\n",
        "def preprocess_text(text):\n",
        "    text = text.lower()\n",
        "    text = re.sub(r'[^a-zA-Z0-9\\s]', '', text)\n",
        "    return text\n",
        "\n",
        "# Criar a coluna 'processed_name'\n",
        "df['processed_name'] = df['name'].apply(preprocess_text)\n",
        "\n",
        "# Inicializar e ajustar o vetorizador TF-IDF\n",
        "tfidf_vectorizer = TfidfVectorizer()\n",
        "tfidf_vectorizer.fit(df['processed_name'])\n",
        "\n",
        "# Salvar o vetorizador\n",
        "joblib.dump(tfidf_vectorizer, 'tfidf_vectorizer.joblib')\n",
        "\n",
        "from google.colab import files\n",
        "files.download('tfidf_vectorizer.joblib')"
      ],
      "metadata": {
        "colab": {
          "base_uri": "https://localhost:8080/",
          "height": 17
        },
        "id": "Jdop_vZoFwJK",
        "outputId": "889cc1e0-a9b5-4d11-db89-1ea8dbd4ee44"
      },
      "execution_count": 53,
      "outputs": [
        {
          "output_type": "display_data",
          "data": {
            "text/plain": [
              "<IPython.core.display.Javascript object>"
            ],
            "application/javascript": [
              "\n",
              "    async function download(id, filename, size) {\n",
              "      if (!google.colab.kernel.accessAllowed) {\n",
              "        return;\n",
              "      }\n",
              "      const div = document.createElement('div');\n",
              "      const label = document.createElement('label');\n",
              "      label.textContent = `Downloading \"${filename}\": `;\n",
              "      div.appendChild(label);\n",
              "      const progress = document.createElement('progress');\n",
              "      progress.max = size;\n",
              "      div.appendChild(progress);\n",
              "      document.body.appendChild(div);\n",
              "\n",
              "      const buffers = [];\n",
              "      let downloaded = 0;\n",
              "\n",
              "      const channel = await google.colab.kernel.comms.open(id);\n",
              "      // Send a message to notify the kernel that we're ready.\n",
              "      channel.send({})\n",
              "\n",
              "      for await (const message of channel.messages) {\n",
              "        // Send a message to notify the kernel that we're ready.\n",
              "        channel.send({})\n",
              "        if (message.buffers) {\n",
              "          for (const buffer of message.buffers) {\n",
              "            buffers.push(buffer);\n",
              "            downloaded += buffer.byteLength;\n",
              "            progress.value = downloaded;\n",
              "          }\n",
              "        }\n",
              "      }\n",
              "      const blob = new Blob(buffers, {type: 'application/binary'});\n",
              "      const a = document.createElement('a');\n",
              "      a.href = window.URL.createObjectURL(blob);\n",
              "      a.download = filename;\n",
              "      div.appendChild(a);\n",
              "      a.click();\n",
              "      div.remove();\n",
              "    }\n",
              "  "
            ]
          },
          "metadata": {}
        },
        {
          "output_type": "display_data",
          "data": {
            "text/plain": [
              "<IPython.core.display.Javascript object>"
            ],
            "application/javascript": [
              "download(\"download_c969e298-9507-4c10-b322-130c18ff8328\", \"tfidf_vectorizer.joblib\", 5549)"
            ]
          },
          "metadata": {}
        }
      ]
    },
    {
      "cell_type": "code",
      "source": [
        "import sklearn\n",
        "import pandas as pd\n",
        "import joblib\n",
        "print(f\"scikit-learn version: {sklearn.__version__}\")\n",
        "print(f\"pandas version: {pd.__version__}\")\n",
        "print(f\"joblib version: {joblib.__version__}\")"
      ],
      "metadata": {
        "colab": {
          "base_uri": "https://localhost:8080/"
        },
        "id": "Gks4GH6BIFMk",
        "outputId": "736cd20e-b7fd-4208-f925-0f646c7c355d"
      },
      "execution_count": 52,
      "outputs": [
        {
          "output_type": "stream",
          "name": "stdout",
          "text": [
            "scikit-learn version: 1.6.1\n",
            "pandas version: 2.2.2\n",
            "joblib version: 1.5.0\n"
          ]
        }
      ]
    }
  ]
}